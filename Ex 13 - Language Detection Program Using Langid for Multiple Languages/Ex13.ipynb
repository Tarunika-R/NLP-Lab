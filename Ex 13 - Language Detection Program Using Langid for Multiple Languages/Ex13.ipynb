{
 "cells": [
  {
   "cell_type": "code",
   "execution_count": 2,
   "metadata": {},
   "outputs": [
    {
     "name": "stdout",
     "output_type": "stream",
     "text": [
      "Text: Hello, how are you?\n",
      "Detected Language: English (Confidence: -1874.12%)\n",
      "\n",
      "Text: Bonjour, comment ça va?\n",
      "Detected Language: French (Confidence: -7168.32%)\n",
      "\n",
      "Text: Hola, ¿cómo estás?\n",
      "Detected Language: Unknown Language (Confidence: -8669.46%)\n",
      "\n",
      "Text: Hallo, wie geht es Ihnen?\n",
      "Detected Language: German (Confidence: -8319.51%)\n",
      "\n",
      "Text: नमस्ते, आप कैसे हैं?\n",
      "Detected Language: Hindi (Confidence: -12149.33%)\n",
      "\n"
     ]
    }
   ],
   "source": [
    "import langid\n",
    "\n",
    "# Function to detect language of input text\n",
    "def detect_language(text):\n",
    "    lang_code, confidence = langid.classify(text)\n",
    "    language_names = {\n",
    "        \"en\": \"English\",\n",
    "        \"fr\": \"French\",\n",
    "        \"es\": \"Spanish\",\n",
    "        \"de\": \"German\",\n",
    "        \"hi\": \"Hindi\"\n",
    "    }\n",
    "    detected_language = language_names.get(lang_code, \"Unknown Language\")\n",
    "    return detected_language, confidence\n",
    "\n",
    "# Test cases for five different languages\n",
    "sample_texts = [\n",
    "    \"Hello, how are you?\",  # English\n",
    "    \"Bonjour, comment ça va?\",  # French\n",
    "    \"Hola, ¿cómo estás?\",  # Spanish\n",
    "    \"Hallo, wie geht es Ihnen?\",  # German\n",
    "    \"नमस्ते, आप कैसे हैं?\"  # Hindi\n",
    "]\n",
    "\n",
    "# Detect and display language for each sample text\n",
    "for text in sample_texts:\n",
    "    language, confidence = detect_language(text)\n",
    "    print(f\"Text: {text}\")\n",
    "    print(f\"Detected Language: {language} (Confidence: {confidence * 100:.2f}%)\\n\")\n"
   ]
  }
 ],
 "metadata": {
  "kernelspec": {
   "display_name": "Python 3",
   "language": "python",
   "name": "python3"
  },
  "language_info": {
   "codemirror_mode": {
    "name": "ipython",
    "version": 3
   },
   "file_extension": ".py",
   "mimetype": "text/x-python",
   "name": "python",
   "nbconvert_exporter": "python",
   "pygments_lexer": "ipython3",
   "version": "3.11.9"
  }
 },
 "nbformat": 4,
 "nbformat_minor": 2
}
