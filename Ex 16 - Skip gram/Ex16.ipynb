{
 "cells": [
  {
   "cell_type": "code",
   "execution_count": 2,
   "metadata": {},
   "outputs": [
    {
     "name": "stderr",
     "output_type": "stream",
     "text": [
      "[nltk_data] Downloading package brown to\n",
      "[nltk_data]     C:\\Users\\Hema\\AppData\\Roaming\\nltk_data...\n",
      "[nltk_data]   Package brown is already up-to-date!\n",
      "[nltk_data] Downloading package punkt to\n",
      "[nltk_data]     C:\\Users\\Hema\\AppData\\Roaming\\nltk_data...\n",
      "[nltk_data]   Package punkt is already up-to-date!\n"
     ]
    },
    {
     "name": "stdout",
     "output_type": "stream",
     "text": [
      "Accuracy: 0.9129750999788167\n",
      "              precision    recall  f1-score   support\n",
      "\n",
      "           0       0.89      0.95      0.92     77894\n",
      "           1       0.94      0.88      0.91     77889\n",
      "\n",
      "    accuracy                           0.91    155783\n",
      "   macro avg       0.91      0.91      0.91    155783\n",
      "weighted avg       0.91      0.91      0.91    155783\n",
      "\n",
      "Probability of 'stock' and 'market' appearing nearby: 0.81\n"
     ]
    }
   ],
   "source": [
    "import nltk\n",
    "import random\n",
    "from nltk.corpus import brown\n",
    "from sklearn.model_selection import train_test_split\n",
    "from sklearn.linear_model import LogisticRegression\n",
    "from sklearn.feature_extraction.text import CountVectorizer\n",
    "from sklearn.metrics import accuracy_score, classification_report\n",
    "\n",
    "nltk.download('brown')\n",
    "nltk.download('punkt')\n",
    "\n",
    "# Load the dataset (using Brown corpus as a placeholder for WSJ)\n",
    "corpus = brown.sents(categories='news')\n",
    "\n",
    "# Prepare the dataset\n",
    "def generate_skip_gram_pairs(sentences, window_size=2):\n",
    "    pairs = []\n",
    "    vocabulary = set()\n",
    "    for sentence in sentences:\n",
    "        for idx, word in enumerate(sentence):\n",
    "            word = word.lower()\n",
    "            vocabulary.add(word)\n",
    "            start = max(idx - window_size, 0)\n",
    "            end = min(idx + window_size + 1, len(sentence))\n",
    "            for neighbor in sentence[start:end]:\n",
    "                if word != neighbor:\n",
    "                    pairs.append((word, neighbor.lower()))\n",
    "    return pairs, list(vocabulary)\n",
    "\n",
    "# Generate positive and negative pairs\n",
    "pairs, vocabulary = generate_skip_gram_pairs(corpus)\n",
    "\n",
    "positive_pairs = pairs\n",
    "negative_pairs = [(random.choice(vocabulary), random.choice(vocabulary)) for _ in range(len(positive_pairs))]\n",
    "\n",
    "# Combine positive and negative pairs\n",
    "all_pairs = positive_pairs + negative_pairs\n",
    "labels = [1] * len(positive_pairs) + [0] * len(negative_pairs)\n",
    "\n",
    "# Split into training and test sets\n",
    "train_pairs, test_pairs, y_train, y_test = train_test_split(all_pairs, labels, test_size=0.2, random_state=42)\n",
    "\n",
    "# Convert text pairs into feature vectors\n",
    "vectorizer = CountVectorizer(analyzer=lambda x: x)\n",
    "X_train = vectorizer.fit_transform(train_pairs)\n",
    "X_test = vectorizer.transform(test_pairs)\n",
    "\n",
    "# Train the logistic regression classifier\n",
    "clf = LogisticRegression()\n",
    "clf.fit(X_train, y_train)\n",
    "\n",
    "# Evaluate the classifier\n",
    "y_pred = clf.predict(X_test)\n",
    "\n",
    "print(\"Accuracy:\", accuracy_score(y_test, y_pred))\n",
    "print(classification_report(y_test, y_pred))\n",
    "\n",
    "# The classifier can now predict if two words are likely to occur nearby\n",
    "\n",
    "def predict_proximity(word1, word2):\n",
    "    pair = [(word1.lower(), word2.lower())]\n",
    "    pair_vectorized = vectorizer.transform(pair)\n",
    "    probability = clf.predict_proba(pair_vectorized)[0][1]\n",
    "    return probability\n",
    "\n",
    "# Example usage\n",
    "probability = predict_proximity(\"stock\", \"market\")\n",
    "print(f\"Probability of 'stock' and 'market' appearing nearby: {probability:.2f}\")\n"
   ]
  },
  {
   "cell_type": "code",
   "execution_count": null,
   "metadata": {},
   "outputs": [],
   "source": []
  }
 ],
 "metadata": {
  "kernelspec": {
   "display_name": "Python 3",
   "language": "python",
   "name": "python3"
  },
  "language_info": {
   "codemirror_mode": {
    "name": "ipython",
    "version": 3
   },
   "file_extension": ".py",
   "mimetype": "text/x-python",
   "name": "python",
   "nbconvert_exporter": "python",
   "pygments_lexer": "ipython3",
   "version": "3.11.9"
  }
 },
 "nbformat": 4,
 "nbformat_minor": 2
}
