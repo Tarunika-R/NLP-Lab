{
 "cells": [
  {
   "cell_type": "code",
   "execution_count": 2,
   "metadata": {},
   "outputs": [
    {
     "name": "stderr",
     "output_type": "stream",
     "text": [
      "[nltk_data] Downloading package gutenberg to\n",
      "[nltk_data]     C:\\Users\\Hema\\AppData\\Roaming\\nltk_data...\n",
      "[nltk_data]   Package gutenberg is already up-to-date!\n",
      "[nltk_data] Downloading package punkt to\n",
      "[nltk_data]     C:\\Users\\Hema\\AppData\\Roaming\\nltk_data...\n",
      "[nltk_data]   Package punkt is already up-to-date!\n"
     ]
    },
    {
     "data": {
      "text/plain": [
       "True"
      ]
     },
     "execution_count": 2,
     "metadata": {},
     "output_type": "execute_result"
    }
   ],
   "source": [
    "import re\n",
    "import collections\n",
    "from nltk.tokenize import word_tokenize, TreebankWordTokenizer\n",
    "from nltk.stem import PorterStemmer\n",
    "from nltk.corpus import gutenberg\n",
    "import nltk\n",
    "\n",
    "# Ensure necessary NLTK data is downloaded\n",
    "nltk.download(\"gutenberg\")\n",
    "nltk.download(\"punkt\")"
   ]
  },
  {
   "cell_type": "code",
   "execution_count": 3,
   "metadata": {},
   "outputs": [],
   "source": [
    "# Load the Shakespeare text corpus from NLTK's Gutenberg corpus\n",
    "shakespeare_text = gutenberg.raw('shakespeare-macbeth.txt')"
   ]
  },
  {
   "cell_type": "code",
   "execution_count": 4,
   "metadata": {},
   "outputs": [],
   "source": [
    "# Tokenize the text using the Penn Treebank tokenizer\n",
    "treebank_tokenizer = TreebankWordTokenizer()\n",
    "tokens = treebank_tokenizer.tokenize(shakespeare_text)"
   ]
  },
  {
   "cell_type": "code",
   "execution_count": 5,
   "metadata": {},
   "outputs": [
    {
     "name": "stdout",
     "output_type": "stream",
     "text": [
      "Original Tokens (Sample): ['[', 'The', 'Tragedie', 'of', 'Macbeth', 'by', 'William', 'Shakespeare', '1603', ']']\n",
      "BPE Vocabulary (Sample): [('[', 4), ('T h e', 118), ('T r a g e d i e', 1), ('o f', 314), ('M a c b e th', 53), ('b y', 36), ('W i l l i a m', 1), ('S h a k es p e a re', 1), ('1 6 0 3', 1), (']', 4)]\n",
      "Stemmed Tokens (Sample): ['[', 'the', 'tragedi', 'of', 'macbeth', 'by', 'william', 'shakespear', '1603', ']']\n"
     ]
    }
   ],
   "source": [
    "# Define a Byte Pair Encoding (BPE) implementation\n",
    "def byte_pair_encoding(tokens, num_merges):\n",
    "    \"\"\"Implements Byte Pair Encoding tokenization.\"\"\"\n",
    "    vocab = collections.Counter(tokens)\n",
    "    \n",
    "    # Create a mapping of token to character pairs\n",
    "    def get_stats(vocab):\n",
    "        pairs = collections.defaultdict(int)\n",
    "        for word, freq in vocab.items():\n",
    "            symbols = word.split()\n",
    "            for i in range(len(symbols) - 1):\n",
    "                pairs[symbols[i], symbols[i + 1]] += freq\n",
    "        return pairs\n",
    "\n",
    "    # Merge the most frequent pair\n",
    "    def merge_vocab(pair, vocab):\n",
    "        new_vocab = {}\n",
    "        bigram = ' '.join(pair)\n",
    "        replacement = ''.join(pair)\n",
    "        for word in vocab:\n",
    "            new_word = word.replace(bigram, replacement)\n",
    "            new_vocab[new_word] = vocab[word]\n",
    "        return new_vocab\n",
    "\n",
    "    # Apply merges\n",
    "    for _ in range(num_merges):\n",
    "        pairs = get_stats(vocab)\n",
    "        if not pairs:\n",
    "            break\n",
    "        best_pair = max(pairs, key=pairs.get)\n",
    "        vocab = merge_vocab(best_pair, vocab)\n",
    "\n",
    "    return vocab\n",
    "\n",
    "# Prepare tokens for BPE by joining characters with spaces\n",
    "bpe_tokens = [' '.join(token) for token in tokens]\n",
    "\n",
    "# Apply Byte Pair Encoding with a specified number of merges (e.g., 10)\n",
    "bpe_vocab = byte_pair_encoding(bpe_tokens, num_merges=10)\n",
    "\n",
    "# Perform stemming using Porter Stemmer\n",
    "porter_stemmer = PorterStemmer()\n",
    "stemmed_tokens = [porter_stemmer.stem(token) for token in tokens]\n",
    "\n",
    "# Print sample outputs\n",
    "print(\"Original Tokens (Sample):\", tokens[:10])\n",
    "print(\"BPE Vocabulary (Sample):\", list(bpe_vocab.items())[:10])\n",
    "print(\"Stemmed Tokens (Sample):\", stemmed_tokens[:10])"
   ]
  }
 ],
 "metadata": {
  "kernelspec": {
   "display_name": "Python 3",
   "language": "python",
   "name": "python3"
  },
  "language_info": {
   "codemirror_mode": {
    "name": "ipython",
    "version": 3
   },
   "file_extension": ".py",
   "mimetype": "text/x-python",
   "name": "python",
   "nbconvert_exporter": "python",
   "pygments_lexer": "ipython3",
   "version": "3.11.9"
  }
 },
 "nbformat": 4,
 "nbformat_minor": 2
}
