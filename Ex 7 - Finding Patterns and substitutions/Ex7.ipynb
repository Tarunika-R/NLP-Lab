{
 "cells": [
  {
   "cell_type": "code",
   "execution_count": null,
   "metadata": {},
   "outputs": [
    {
     "name": "stdout",
     "output_type": "stream",
     "text": [
      "Welcome to the ELIZA-like Chatbot about Technology and Innovation!\n",
      "Type 'exit' to end the conversation.\n",
      "\n",
      "Chatbot: That's interesting. How does it impact your life?\n",
      "Chatbot: Do you think The is changing the world?\n",
      "Chatbot: Do you think All is changing the world?\n",
      "Chatbot: That's interesting. How does no impact your life?\n",
      "Chatbot: That's interesting. How does it impact your life?\n",
      "Chatbot: That's interesting. How does it impact your life?\n"
     ]
    }
   ],
   "source": [
    "import re\n",
    "\n",
    "# Define substitution rules\n",
    "substitutions = [\n",
    "    (r'.* I\\'M (depressed|sad) .*', r'I AM SORRY TO HEAR YOU ARE \\1'),\n",
    "    (r'.* I AM (depressed|sad) .*', r'WHY DO YOU THINK YOU ARE \\1'),\n",
    "    (r'.* all .*', r'IN WHAT WAY'),\n",
    "    (r'.* always .*', r'CAN YOU THINK OF A SPECIFIC EXAMPLE')\n",
    "]\n",
    "\n",
    "# Define generic responses\n",
    "responses = [\n",
    "    \"Why do you feel that way about {topic}?\",\n",
    "    \"Can you elaborate more on your thoughts about {topic}?\",\n",
    "    \"That's interesting. How does {topic} impact your life?\",\n",
    "    \"Do you think {topic} is changing the world?\",\n",
    "    \"What do you think about the future of {topic}?\"\n",
    "]\n",
    "\n",
    "# Function to apply substitutions to user input\n",
    "def apply_substitutions(input_text):\n",
    "    for pattern, replacement in substitutions:\n",
    "        if re.match(pattern, input_text, flags=re.IGNORECASE):\n",
    "            return re.sub(pattern, replacement, input_text, flags=re.IGNORECASE)\n",
    "    return input_text\n",
    "\n",
    "# ELIZA-like response generator\n",
    "def eliza_response(user_input):\n",
    "    substituted_input = apply_substitutions(user_input)\n",
    "    topic_match = re.search(r'\\b(\\w+)\\b', substituted_input)\n",
    "    topic = topic_match.group(1) if topic_match else \"it\"\n",
    "    response_template = responses[len(topic) % len(responses)]  # Rotate responses\n",
    "    return response_template.format(topic=topic)\n",
    "\n",
    "# Main chatbot loop\n",
    "def chatbot():\n",
    "    print(\"Welcome to the ELIZA-like Chatbot about Technology and Innovation!\")\n",
    "    print(\"Type 'exit' to end the conversation.\\n\")\n",
    "\n",
    "    while True:\n",
    "        user_input = input(\"You: \")\n",
    "        if user_input.lower() == 'exit':\n",
    "            print(\"Chatbot: Goodbye! Have a great day!\")\n",
    "            break\n",
    "        response = eliza_response(user_input)\n",
    "        print(f\"Chatbot: {response}\")\n",
    "\n",
    "# Run the chatbot\n",
    "if __name__ == \"__main__\":\n",
    "    chatbot()\n"
   ]
  }
 ],
 "metadata": {
  "kernelspec": {
   "display_name": "Python 3",
   "language": "python",
   "name": "python3"
  },
  "language_info": {
   "codemirror_mode": {
    "name": "ipython",
    "version": 3
   },
   "file_extension": ".py",
   "mimetype": "text/x-python",
   "name": "python",
   "nbconvert_exporter": "python",
   "pygments_lexer": "ipython3",
   "version": "3.11.9"
  }
 },
 "nbformat": 4,
 "nbformat_minor": 2
}
