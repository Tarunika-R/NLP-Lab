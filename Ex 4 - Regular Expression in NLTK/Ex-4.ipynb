{
 "cells": [
  {
   "cell_type": "code",
   "execution_count": 23,
   "metadata": {},
   "outputs": [],
   "source": [
    "import re\n",
    "\n",
    "# Read corpus from external file\n",
    "with open('corpus.txt', 'r') as file:\n",
    "    corpus = file.read()\n",
    "\n",
    "# Function to demonstrate regex matching\n",
    "def demonstrate_regex(pattern, description):\n",
    "    matches = re.findall(pattern, corpus)\n",
    "    print(f\"\\n{description}\\nPattern: {pattern}\\nMatches: {matches}\")\n"
   ]
  },
  {
   "cell_type": "code",
   "execution_count": 24,
   "metadata": {},
   "outputs": [
    {
     "name": "stdout",
     "output_type": "stream",
     "text": [
      "\n",
      "Matches any single digit from 2 to 5\n",
      "Pattern: [2-5]\n",
      "Matches: ['3', '4', '2', '3', '2', '3', '4', '5']\n",
      "\n",
      "Matches any single lowercase letter from b to f\n",
      "Pattern: [b-f]\n",
      "Matches: ['e', 'e', 'e', 'c', 'd', 'd', 'e', 'd', 'd', 'c', 'c', 'b', 'c', 'b', 'b', 'c', 'b', 'b', 'b', 'c', 'b', 'c', 'c', 'd', 'e', 'c', 'e', 'e', 'e', 'e', 'e', 'e', 'e', 'e', 'e', 'e']\n"
     ]
    }
   ],
   "source": [
    "# 1. Hyphen [2-5] and [b-f]\n",
    "demonstrate_regex(r'[2-5]', \"Matches any single digit from 2 to 5\")\n",
    "demonstrate_regex(r'[b-f]', \"Matches any single lowercase letter from b to f\")"
   ]
  },
  {
   "cell_type": "code",
   "execution_count": 42,
   "metadata": {},
   "outputs": [
    {
     "name": "stdout",
     "output_type": "stream",
     "text": [
      "\n",
      "Matches lines starting with 'H'\n",
      "Pattern: ^H\n",
      "Matches: []\n"
     ]
    }
   ],
   "source": [
    "# 2. Caret symbol (^)\n",
    "demonstrate_regex(r'^H', \"Matches lines starting with 'H'\")"
   ]
  },
  {
   "cell_type": "code",
   "execution_count": 26,
   "metadata": {},
   "outputs": [
    {
     "name": "stdout",
     "output_type": "stream",
     "text": [
      "\n",
      "Matches 'colo' followed by 'r' or 'ur'\n",
      "Pattern: colou?r\n",
      "Matches: ['color', 'colour']\n"
     ]
    }
   ],
   "source": [
    "# 3. Question mark (?) operator\n",
    "demonstrate_regex(r'colou?r', \"Matches 'colo' followed by 'r' or 'ur'\")"
   ]
  },
  {
   "cell_type": "code",
   "execution_count": 27,
   "metadata": {},
   "outputs": [
    {
     "name": "stdout",
     "output_type": "stream",
     "text": [
      "\n",
      "Matches 'a' followed by zero or more 'b's\n",
      "Pattern: ab*\n",
      "Matches: ['a', 'a', 'a', 'ab', 'abb', 'abbb', 'a', 'a', 'a', 'a', 'a']\n"
     ]
    }
   ],
   "source": [
    "# 4. Kleene star (*) operator\n",
    "demonstrate_regex(r'ab*', \"Matches 'a' followed by zero or more 'b's\")"
   ]
  },
  {
   "cell_type": "code",
   "execution_count": 28,
   "metadata": {},
   "outputs": [
    {
     "name": "stdout",
     "output_type": "stream",
     "text": [
      "\n",
      "Matches 'a' followed by one or more 'b's\n",
      "Pattern: ab+\n",
      "Matches: ['ab', 'abb', 'abbb']\n"
     ]
    }
   ],
   "source": [
    "# 5. Kleene plus (+) operator\n",
    "demonstrate_regex(r'ab+', \"Matches 'a' followed by one or more 'b's\")"
   ]
  },
  {
   "cell_type": "code",
   "execution_count": 29,
   "metadata": {},
   "outputs": [
    {
     "name": "stdout",
     "output_type": "stream",
     "text": [
      "\n",
      "Matches any single character followed by '1'\n",
      "Pattern: .1\n",
      "Matches: ['a1']\n"
     ]
    }
   ],
   "source": [
    "# 6. Dot (.) operator\n",
    "demonstrate_regex(r'.1', \"Matches any single character followed by '1'\")"
   ]
  },
  {
   "cell_type": "code",
   "execution_count": 38,
   "metadata": {},
   "outputs": [
    {
     "name": "stdout",
     "output_type": "stream",
     "text": [
      "\n",
      "Matches 'cat' or 'dog'\n",
      "Pattern: dog|hat\n",
      "Matches: ['dog', 'dog', 'hat']\n"
     ]
    }
   ],
   "source": [
    "# 7. Pipe (|) symbol\n",
    "demonstrate_regex(r'dog|hat', \"Matches 'cat' or 'dog'\")"
   ]
  },
  {
   "cell_type": "code",
   "execution_count": 31,
   "metadata": {},
   "outputs": [
    {
     "name": "stdout",
     "output_type": "stream",
     "text": [
      "\n",
      "Matches the word 'the'\n",
      "Pattern: \\bthe\\b\n",
      "Matches: ['the', 'the', 'the']\n"
     ]
    }
   ],
   "source": [
    "# 8. Word boundary (\\b)\n",
    "demonstrate_regex(r'\\bthe\\b', \"Matches the word 'the'\")"
   ]
  },
  {
   "cell_type": "code",
   "execution_count": 32,
   "metadata": {},
   "outputs": [
    {
     "name": "stdout",
     "output_type": "stream",
     "text": [
      "\n",
      "Matches 'the' not at the word boundary\n",
      "Pattern: \\Bthe\\B\n",
      "Matches: ['the']\n"
     ]
    }
   ],
   "source": [
    "# 9. Non-word boundary (\\B)\n",
    "demonstrate_regex(r'\\Bthe\\B', \"Matches 'the' not at the word boundary\")"
   ]
  },
  {
   "cell_type": "code",
   "execution_count": 33,
   "metadata": {},
   "outputs": [
    {
     "name": "stdout",
     "output_type": "stream",
     "text": [
      "\n",
      "Matches 'the' or 'The' surrounded by non-letter characters\n",
      "Pattern: [^a-zA-Z][tT]he[^a-zA-Z]\n",
      "Matches: ['\\nthe ', ' the ', ' the ', '1the ', '2The ', '3the4', '5the ', '6The7']\n"
     ]
    }
   ],
   "source": [
    "# 10. Regex /[^a-zA-Z][tT]he[^a-zA-Z]/\n",
    "demonstrate_regex(r'[^a-zA-Z][tT]he[^a-zA-Z]', \"Matches 'the' or 'The' surrounded by non-letter characters\")"
   ]
  }
 ],
 "metadata": {
  "kernelspec": {
   "display_name": "Python 3",
   "language": "python",
   "name": "python3"
  },
  "language_info": {
   "codemirror_mode": {
    "name": "ipython",
    "version": 3
   },
   "file_extension": ".py",
   "mimetype": "text/x-python",
   "name": "python",
   "nbconvert_exporter": "python",
   "pygments_lexer": "ipython3",
   "version": "3.11.9"
  }
 },
 "nbformat": 4,
 "nbformat_minor": 2
}
