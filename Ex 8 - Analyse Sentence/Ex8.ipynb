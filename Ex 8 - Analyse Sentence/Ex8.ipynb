{
 "cells": [
  {
   "cell_type": "code",
   "execution_count": 12,
   "metadata": {},
   "outputs": [
    {
     "name": "stdout",
     "output_type": "stream",
     "text": [
      "a: Implies(A, ~B)\n",
      "b: C & D\n",
      "c: Implies(~R, S)\n",
      "d: ~(Implies(O | T, H))\n",
      "e: ~C & ~S\n",
      "f: Implies(Implies(~Y, ~M), Implies(~C, ~I))\n"
     ]
    }
   ],
   "source": [
    "from sympy import symbols, Not, And, Or, Implies\n",
    "\n",
    "# Define propositional variables\n",
    "A, B, C, D, R, S, O, T, H, Y, M, I = symbols(\"A B C D R S O T H Y M I\")\n",
    "\n",
    "# Translations\n",
    "sentences = {\n",
    "    \"a\": Implies(A, Not(B)),                       # If Angus sings, Bertie doesn't sulk\n",
    "    \"b\": And(C, D),                                # Cyril runs and barks\n",
    "    \"c\": Implies(Not(R), S),                       # It will snow if it doesn’t rain\n",
    "    \"d\": Not(Implies(Or(O, T), H)),                # Irene will not be happy if Olive or Tofu comes\n",
    "    \"e\": And(Not(C), Not(S)),                      # Pat didn’t cough or sneeze\n",
    "    \"f\": Implies(Implies(Not(Y), Not(M)), Implies(Not(C), Not(I))),  # Conditional statement\n",
    "}\n",
    "\n",
    "# Print and verify the expressions\n",
    "for key, sentence in sentences.items():\n",
    "    print(f\"{key}: {sentence}\")\n"
   ]
  },
  {
   "cell_type": "code",
   "execution_count": 14,
   "metadata": {},
   "outputs": [
    {
     "name": "stdout",
     "output_type": "stream",
     "text": [
      "f1: Likes(Angus, Cyril) ∧ Hates(Irene, Cyril)\n",
      "f2: Taller(Tofu, Bertie)\n",
      "f3: Loves(Bruce, Bruce) ∧ Loves(Pat, Pat)\n",
      "f4: Saw(Cyril, Bertie) ∧ ¬Saw(Angus, Bertie)\n",
      "f5: FourLeggedFriend(Cyril)\n",
      "f6: Near(Tofu, Olive)\n"
     ]
    }
   ],
   "source": [
    "# Define entities\n",
    "from sympy import symbols\n",
    "\n",
    "# Entities (individuals)\n",
    "a, b, c, i, t, o, j, p, m = symbols(\"a b c i t o j p m\")\n",
    "\n",
    "# Define predicates as strings\n",
    "Likes = lambda x, y: f\"Likes({x}, {y})\"\n",
    "Hates = lambda x, y: f\"Hates({x}, {y})\"\n",
    "Taller = lambda x, y: f\"Taller({x}, {y})\"\n",
    "Loves = lambda x, y: f\"Loves({x}, {y})\"\n",
    "Saw = lambda x, y: f\"Saw({x}, {y})\"\n",
    "FourLeggedFriend = lambda x: f\"FourLeggedFriend({x})\"\n",
    "Near = lambda x, y: f\"Near({x}, {y})\"\n",
    "\n",
    "# Example sentences\n",
    "f1 = f\"{Likes('Angus', 'Cyril')} ∧ {Hates('Irene', 'Cyril')}\"  # Angus likes Cyril and Irene hates Cyril\n",
    "f2 = f\"{Taller('Tofu', 'Bertie')}\"                             # Tofu is taller than Bertie\n",
    "f3 = f\"{Loves('Bruce', 'Bruce')} ∧ {Loves('Pat', 'Pat')}\"      # Bruce loves himself and Pat does too\n",
    "f4 = f\"{Saw('Cyril', 'Bertie')} ∧ ¬{Saw('Angus', 'Bertie')}\"   # Cyril saw Bertie, Angus didn’t\n",
    "f5 = f\"{FourLeggedFriend('Cyril')}\"                            # Cyril is a four-legged friend\n",
    "f6 = f\"{Near('Tofu', 'Olive')}\"                                # Tofu and Olive are near each other\n",
    "\n",
    "# Print sentences\n",
    "for i, f in enumerate([f1, f2, f3, f4, f5, f6], start=1):\n",
    "    print(f\"f{i}: {f}\")\n"
   ]
  },
  {
   "cell_type": "code",
   "execution_count": 7,
   "metadata": {},
   "outputs": [
    {
     "name": "stdout",
     "output_type": "stream",
     "text": [
      "f7: ∃x (Likes(Angus, x))\n",
      "f8: ∃x (Likes(Angus, x) ∧ Likes(x, Angus))\n",
      "f9: ¬∃x (SmilesAt(x, Pat))\n",
      "f10: ∃x (Coughs(x) ∧ Sneezes(x))\n",
      "f11: ¬∃x (Coughs(x) ∨ Sneezes(x))\n"
     ]
    }
   ],
   "source": [
    "from sympy import symbols, And, Or, Not, Implies\n",
    "\n",
    "# Define entities\n",
    "a, b, c, i, t, o, j, p, m = symbols(\"a b c i t o j p m\")  # Individuals\n",
    "\n",
    "# Define predicates as symbolic representations\n",
    "Likes = lambda x, y: f\"Likes({x}, {y})\"\n",
    "SmilesAt = lambda x, y: f\"SmilesAt({x}, {y})\"\n",
    "Coughs = lambda x: f\"Coughs({x})\"\n",
    "Sneezes = lambda x: f\"Sneezes({x})\"\n",
    "\n",
    "# Example quantified sentences represented as strings\n",
    "f7 = f\"∃x ({Likes('Angus', 'x')})\"                # Angus likes someone\n",
    "f8 = f\"∃x ({Likes('Angus', 'x')} ∧ {Likes('x', 'Angus')})\"  # Angus loves a dog who loves him\n",
    "f9 = f\"¬∃x ({SmilesAt('x', 'Pat')})\"              # Nobody smiles at Pat\n",
    "f10 = f\"∃x ({Coughs('x')} ∧ {Sneezes('x')})\"      # Somebody coughs and sneezes\n",
    "f11 = f\"¬∃x ({Coughs('x')} ∨ {Sneezes('x')})\"     # Nobody coughed or sneezed\n",
    "\n",
    "# Print quantified formulas\n",
    "print(f\"f7: {f7}\")\n",
    "print(f\"f8: {f8}\")\n",
    "print(f\"f9: {f9}\")\n",
    "print(f\"f10: {f10}\")\n",
    "print(f\"f11: {f11}\")\n"
   ]
  },
  {
   "cell_type": "code",
   "execution_count": 8,
   "metadata": {},
   "outputs": [
    {
     "name": "stdout",
     "output_type": "stream",
     "text": [
      "λ-Abstraction 1: λ x, c. Feed(x, c) ∧ λ x, Cappuccino, a. Give(x, Cappuccino, a)\n",
      "λ-Abstraction 2: λ 'War and Peace', x, p. Given('War and Peace', x, p)\n",
      "λ-Abstraction 3: λ x. ∀ y (Loves(y, x))(x)\n",
      "λ-Abstraction 4: λ x. ∀ y (Loves(y, x) ∨ Detests(y, x))(x)\n",
      "λ-Abstraction 5: λ x. ∀ y (Loves(y, x)) ∧ ∀ z (¬Detests(z, x))(x)\n"
     ]
    }
   ],
   "source": [
    "# Define λ-abstraction functions\n",
    "def lambda_abstraction(action, *args):\n",
    "    return f\"λ {', '.join(args)}. {action}({', '.join(args)})\"\n",
    "\n",
    "# Examples\n",
    "abs1 = lambda_abstraction(\"Feed\", \"x\", \"c\") + \" ∧ \" + lambda_abstraction(\"Give\", \"x\", \"Cappuccino\", \"a\")\n",
    "abs2 = lambda_abstraction(\"Given\", \"'War and Peace'\", \"x\", \"p\")\n",
    "abs3 = lambda_abstraction(\"∀ y (Loves(y, x))\", \"x\")\n",
    "abs4 = lambda_abstraction(\"∀ y (Loves(y, x) ∨ Detests(y, x))\", \"x\")\n",
    "abs5 = lambda_abstraction(\"∀ y (Loves(y, x)) ∧ ∀ z (¬Detests(z, x))\", \"x\")\n",
    "\n",
    "# Print abstractions\n",
    "for i, abs in enumerate([abs1, abs2, abs3, abs4, abs5], start=1):\n",
    "    print(f\"λ-Abstraction {i}: {abs}\")\n"
   ]
  }
 ],
 "metadata": {
  "kernelspec": {
   "display_name": "Python 3",
   "language": "python",
   "name": "python3"
  },
  "language_info": {
   "codemirror_mode": {
    "name": "ipython",
    "version": 3
   },
   "file_extension": ".py",
   "mimetype": "text/x-python",
   "name": "python",
   "nbconvert_exporter": "python",
   "pygments_lexer": "ipython3",
   "version": "3.11.9"
  }
 },
 "nbformat": 4,
 "nbformat_minor": 2
}
