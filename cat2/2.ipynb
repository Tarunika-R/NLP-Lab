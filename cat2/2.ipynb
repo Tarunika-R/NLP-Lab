{
 "cells": [
  {
   "cell_type": "code",
   "execution_count": 6,
   "id": "4fff9661",
   "metadata": {},
   "outputs": [
    {
     "name": "stdout",
     "output_type": "stream",
     "text": [
      "(b) Cosine Similarity Between Two Words\n",
      "\n",
      "Word 1: `language`\n",
      "Word 2: `processing`\n",
      "**Cosine Similarity:** **1.0000**\n",
      "\n",
      "(c) Top 5 Words with Highest TF-IDF Scores Across the Corpus\n",
      "\n",
      "| Rank | Word         | TF-IDF Score |\n",
      "\n",
      "|------|--------------|--------------|\n",
      "\n",
      "| 1    | is           | 0.8732       |\n",
      "\n",
      "| 2    | of           | 0.7946       |\n",
      "\n",
      "| 3    | text         | 0.7943       |\n",
      "\n",
      "| 4    | intelligence | 0.7105       |\n",
      "\n",
      "| 5    | artificial   | 0.7105       |\n",
      "\n"
     ]
    }
   ],
   "source": [
    "from sklearn.feature_extraction.text import TfidfVectorizer\n",
    "from sklearn.metrics.pairwise import cosine_similarity\n",
    "import numpy as np\n",
    "\n",
    "# Sample corpus\n",
    "corpus = [\n",
    "    \"natural language processing is a field of artificial intelligence\",\n",
    "    \"text mining is the process of deriving useful information from text\",\n",
    "    \"machine learning is a method of data analysis\",\n",
    "    \"artificial intelligence can simulate human cognition\",\n",
    "    \"text data processing is an important task in natural language\"\n",
    "]\n",
    "\n",
    "# Initialize TF-IDF Vectorizer\n",
    "vectorizer = TfidfVectorizer()\n",
    "X = vectorizer.fit_transform(corpus)\n",
    "\n",
    "# Get feature names (words)\n",
    "feature_names = vectorizer.get_feature_names_out()\n",
    "\n",
    "# Find the index of the words we want to compare\n",
    "word1 = \"language\"\n",
    "word2 = \"processing\"\n",
    "\n",
    "outputs = []\n",
    "\n",
    "# (b) Cosine similarity between two words\n",
    "if word1 in feature_names and word2 in feature_names:\n",
    "    idx1 = np.where(feature_names == word1)[0][0]\n",
    "    idx2 = np.where(feature_names == word2)[0][0]\n",
    "\n",
    "    # Get word vectors (column vectors from TF-IDF matrix)\n",
    "    word1_vector = X[:, idx1].toarray()\n",
    "    word2_vector = X[:, idx2].toarray()\n",
    "\n",
    "    # Compute cosine similarity\n",
    "    similarity = cosine_similarity(word1_vector.T, word2_vector.T)[0][0]\n",
    "    outputs.append(f\"(b) Cosine Similarity Between Two Words\\n\")\n",
    "    outputs.append(f\"Word 1: `{word1}`\\nWord 2: `{word2}`\\n**Cosine Similarity:** **{similarity:.4f}**\\n\")\n",
    "else:\n",
    "    outputs.append(f\"One of the words '{word1}' or '{word2}' not found in vocabulary.\")\n",
    "\n",
    "# (c) Top 5 words with highest TF-IDF scores across all documents\n",
    "tfidf_scores = np.asarray(X.sum(axis=0)).flatten()\n",
    "top_indices = np.argsort(tfidf_scores)[::-1][:5]\n",
    "\n",
    "top_words = [(feature_names[idx], tfidf_scores[idx]) for idx in top_indices]\n",
    "outputs.append(f\"(c) Top 5 Words with Highest TF-IDF Scores Across the Corpus\\n\")\n",
    "outputs.append(f\"| Rank | Word         | TF-IDF Score |\\n\")\n",
    "outputs.append(f\"|------|--------------|--------------|\\n\")\n",
    "for i, (word, score) in enumerate(top_words, 1):\n",
    "    outputs.append(f\"| {i}    | {word.ljust(12)} | {score:.4f}       |\\n\")\n",
    "\n",
    "# Print the output in the desired format\n",
    "print(\"\\n\".join(outputs))\n"
   ]
  }
 ],
 "metadata": {
  "kernelspec": {
   "display_name": "Python 3",
   "language": "python",
   "name": "python3"
  },
  "language_info": {
   "codemirror_mode": {
    "name": "ipython",
    "version": 3
   },
   "file_extension": ".py",
   "mimetype": "text/x-python",
   "name": "python",
   "nbconvert_exporter": "python",
   "pygments_lexer": "ipython3",
   "version": "3.11.9"
  }
 },
 "nbformat": 4,
 "nbformat_minor": 5
}
