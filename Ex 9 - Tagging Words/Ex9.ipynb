{
 "cells": [
  {
   "cell_type": "code",
   "execution_count": 1,
   "metadata": {},
   "outputs": [
    {
     "name": "stdout",
     "output_type": "stream",
     "text": [
      "Top 10 Bigrams:\n",
      "(',', 'and'): 2\n",
      "('.', 'ai'): 2\n",
      "('artificial', 'intelligence'): 1\n",
      "('intelligence', '('): 1\n",
      "('(', 'ai'): 1\n",
      "('ai', ')'): 1\n",
      "(')', 'is'): 1\n",
      "('is', 'a'): 1\n",
      "('a', 'branch'): 1\n",
      "('branch', 'of'): 1\n",
      "\n",
      "Top 10 Trigrams:\n",
      "('artificial', 'intelligence', '('): 1\n",
      "('intelligence', '(', 'ai'): 1\n",
      "('(', 'ai', ')'): 1\n",
      "('ai', ')', 'is'): 1\n",
      "(')', 'is', 'a'): 1\n",
      "('is', 'a', 'branch'): 1\n",
      "('a', 'branch', 'of'): 1\n",
      "('branch', 'of', 'computer'): 1\n",
      "('of', 'computer', 'science'): 1\n",
      "('computer', 'science', 'that'): 1\n"
     ]
    }
   ],
   "source": [
    "import nltk\n",
    "from nltk.util import bigrams, trigrams\n",
    "from collections import Counter\n",
    "from nltk.tokenize import word_tokenize\n",
    "\n",
    "# Load your custom corpus (e.g., a text file)\n",
    "with open(\"custom_corpus.txt\", \"r\") as file:\n",
    "    corpus = file.read()\n",
    "\n",
    "# Tokenize the text\n",
    "tokens = word_tokenize(corpus.lower())\n",
    "\n",
    "# Generate Bigrams and Trigrams\n",
    "bigrams_list = list(bigrams(tokens))\n",
    "trigrams_list = list(trigrams(tokens))\n",
    "\n",
    "# Frequency Distributions\n",
    "bigram_freq = Counter(bigrams_list)\n",
    "trigram_freq = Counter(trigrams_list)\n",
    "\n",
    "# Display Results in the desired format\n",
    "print(\"Top 10 Bigrams:\")\n",
    "for bigram, freq in bigram_freq.most_common(10):\n",
    "    print(f\"{bigram}: {freq}\")\n",
    "\n",
    "print(\"\\nTop 10 Trigrams:\")\n",
    "for trigram, freq in trigram_freq.most_common(10):\n",
    "    print(f\"{trigram}: {freq}\")\n"
   ]
  }
 ],
 "metadata": {
  "kernelspec": {
   "display_name": "Python 3",
   "language": "python",
   "name": "python3"
  },
  "language_info": {
   "codemirror_mode": {
    "name": "ipython",
    "version": 3
   },
   "file_extension": ".py",
   "mimetype": "text/x-python",
   "name": "python",
   "nbconvert_exporter": "python",
   "pygments_lexer": "ipython3",
   "version": "3.11.9"
  }
 },
 "nbformat": 4,
 "nbformat_minor": 2
}
