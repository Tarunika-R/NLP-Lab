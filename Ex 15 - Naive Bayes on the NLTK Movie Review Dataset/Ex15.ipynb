{
 "cells": [
  {
   "cell_type": "code",
   "execution_count": 1,
   "metadata": {},
   "outputs": [
    {
     "name": "stderr",
     "output_type": "stream",
     "text": [
      "[nltk_data] Downloading package movie_reviews to\n",
      "[nltk_data]     C:\\Users\\Hema\\AppData\\Roaming\\nltk_data...\n",
      "[nltk_data]   Package movie_reviews is already up-to-date!\n"
     ]
    },
    {
     "name": "stdout",
     "output_type": "stream",
     "text": [
      "Accuracy: 0.735\n",
      "Most Informative Features\n",
      "               insulting = True              neg : pos    =     15.8 : 1.0\n",
      "            breathtaking = True              pos : neg    =     14.1 : 1.0\n",
      "                  avoids = True              pos : neg    =     12.9 : 1.0\n",
      "              vulnerable = True              pos : neg    =     12.9 : 1.0\n",
      "               ludicrous = True              neg : pos    =     12.7 : 1.0\n",
      "               stupidity = True              neg : pos    =     12.3 : 1.0\n",
      "                chilling = True              pos : neg    =     12.2 : 1.0\n",
      "                  seagal = True              neg : pos    =     11.1 : 1.0\n",
      "              astounding = True              pos : neg    =     10.9 : 1.0\n",
      "              schumacher = True              neg : pos    =     10.4 : 1.0\n"
     ]
    }
   ],
   "source": [
    "import nltk\n",
    "from nltk.corpus import movie_reviews\n",
    "import random\n",
    "from nltk.classify import NaiveBayesClassifier\n",
    "from nltk.classify.util import accuracy\n",
    "\n",
    "# Download dataset if not available\n",
    "nltk.download('movie_reviews')\n",
    "\n",
    "# Load dataset\n",
    "documents = [(list(movie_reviews.words(fileid)), category)\n",
    "             for category in movie_reviews.categories()\n",
    "             for fileid in movie_reviews.fileids(category)]\n",
    "\n",
    "# Shuffle the data\n",
    "random.shuffle(documents)\n",
    "\n",
    "# Feature extraction\n",
    "def document_features(words):\n",
    "    return {word: True for word in words}\n",
    "\n",
    "# Split dataset into training and testing\n",
    "feature_sets = [(document_features(doc), category) for (doc, category) in documents]\n",
    "train_set, test_set = feature_sets[:1600], feature_sets[1600:]\n",
    "\n",
    "# Train Naive Bayes Classifier\n",
    "classifier = NaiveBayesClassifier.train(train_set)\n",
    "\n",
    "# Evaluate the classifier\n",
    "print(\"Accuracy:\", accuracy(classifier, test_set))\n",
    "\n",
    "# Show the most informative features\n",
    "classifier.show_most_informative_features(10)\n"
   ]
  },
  {
   "cell_type": "code",
   "execution_count": 2,
   "metadata": {},
   "outputs": [
    {
     "name": "stdout",
     "output_type": "stream",
     "text": [
      "Accuracy: 0.2669773635153129\n",
      "Most Informative Features\n",
      "                     god = np.float64(0.0)      2 : 3      =      1.9 : 1.0\n",
      "                  people = np.float64(0.0)      1 : 3      =      1.5 : 1.0\n",
      "                   jesus = np.float64(0.0)      2 : 3      =      1.4 : 1.0\n",
      "                     say = np.float64(0.0)      1 : 3      =      1.3 : 1.0\n",
      "                     don = np.float64(0.0)      1 : 0      =      1.3 : 1.0\n",
      "                 believe = np.float64(0.0)      1 : 3      =      1.3 : 1.0\n",
      "                  christ = np.float64(0.0)      2 : 3      =      1.3 : 1.0\n",
      "                graphics = np.float64(0.0)      3 : 1      =      1.3 : 1.0\n",
      "               christian = np.float64(0.0)      2 : 3      =      1.3 : 1.0\n",
      "                   bible = np.float64(0.0)      2 : 3      =      1.3 : 1.0\n"
     ]
    }
   ],
   "source": [
    "from sklearn.datasets import fetch_20newsgroups\n",
    "from sklearn.feature_extraction.text import CountVectorizer, TfidfTransformer\n",
    "from nltk.classify import NaiveBayesClassifier\n",
    "from nltk.classify.util import accuracy\n",
    "import nltk\n",
    "\n",
    "# Load dataset\n",
    "categories = ['alt.atheism', 'comp.graphics', 'sci.med', 'soc.religion.christian']\n",
    "newsgroups_train = fetch_20newsgroups(subset='train', categories=categories, remove=('headers', 'footers', 'quotes'))\n",
    "newsgroups_test = fetch_20newsgroups(subset='test', categories=categories, remove=('headers', 'footers', 'quotes'))\n",
    "\n",
    "# Convert text to feature vectors\n",
    "vectorizer = CountVectorizer(stop_words='english', max_features=3000)\n",
    "X_train_counts = vectorizer.fit_transform(newsgroups_train.data)\n",
    "X_test_counts = vectorizer.transform(newsgroups_test.data)\n",
    "\n",
    "# Convert counts to TF-IDF features\n",
    "tfidf_transformer = TfidfTransformer()\n",
    "X_train_tfidf = tfidf_transformer.fit_transform(X_train_counts)\n",
    "X_test_tfidf = tfidf_transformer.transform(X_test_counts)\n",
    "\n",
    "# Convert to a format suitable for NLTK\n",
    "train_features = [(dict(zip(vectorizer.get_feature_names_out(), row.toarray()[0])), category)\n",
    "                  for row, category in zip(X_train_tfidf, newsgroups_train.target)]\n",
    "test_features = [(dict(zip(vectorizer.get_feature_names_out(), row.toarray()[0])), category)\n",
    "                 for row, category in zip(X_test_tfidf, newsgroups_test.target)]\n",
    "\n",
    "# Train Naive Bayes Classifier\n",
    "classifier = NaiveBayesClassifier.train(train_features)\n",
    "\n",
    "# Evaluate accuracy\n",
    "print(\"Accuracy:\", accuracy(classifier, test_features))\n",
    "\n",
    "# Show most informative features\n",
    "classifier.show_most_informative_features(10)\n"
   ]
  }
 ],
 "metadata": {
  "kernelspec": {
   "display_name": "Python 3",
   "language": "python",
   "name": "python3"
  },
  "language_info": {
   "codemirror_mode": {
    "name": "ipython",
    "version": 3
   },
   "file_extension": ".py",
   "mimetype": "text/x-python",
   "name": "python",
   "nbconvert_exporter": "python",
   "pygments_lexer": "ipython3",
   "version": "3.11.9"
  }
 },
 "nbformat": 4,
 "nbformat_minor": 2
}
