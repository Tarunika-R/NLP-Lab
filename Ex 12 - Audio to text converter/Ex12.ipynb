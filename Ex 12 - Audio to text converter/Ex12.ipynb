{
 "cells": [
  {
   "cell_type": "code",
   "execution_count": 9,
   "metadata": {},
   "outputs": [
    {
     "name": "stdout",
     "output_type": "stream",
     "text": [
      "Processing audio...\n",
      "Text: the still smell of old buildings it takes heat to bring out the order a cold storage find with him Tales of pastor are my favourite is just for food is the hard cross bun\n"
     ]
    }
   ],
   "source": [
    "import speech_recognition as sr\n",
    "\n",
    "# Function to convert audio file to text\n",
    "def audio_to_text(audio_file):\n",
    "    # Initialize the recognizer\n",
    "    recognizer = sr.Recognizer()\n",
    "    \n",
    "    try:\n",
    "        # Load the audio file\n",
    "        with sr.AudioFile(audio_file) as source:\n",
    "            print(\"Processing audio...\")\n",
    "            audio_data = recognizer.record(source)  # Read the entire audio file\n",
    "            \n",
    "        # Recognize (convert speech to text)\n",
    "        text = recognizer.recognize_google(audio_data)\n",
    "        return f\"Text: {text}\"\n",
    "    \n",
    "    except sr.UnknownValueError:\n",
    "        return \"Speech Recognition could not understand the audio.\"\n",
    "    except sr.RequestError as e:\n",
    "        return f\"Could not request results from Google Speech Recognition service; {e}\"\n",
    "\n",
    "# Example usage\n",
    "audio_file_path = \"harvard.wav\"  # Replace with the path to your .wav file\n",
    "output = audio_to_text(audio_file_path)\n",
    "print(output)\n"
   ]
  }
 ],
 "metadata": {
  "kernelspec": {
   "display_name": "Python 3",
   "language": "python",
   "name": "python3"
  },
  "language_info": {
   "codemirror_mode": {
    "name": "ipython",
    "version": 3
   },
   "file_extension": ".py",
   "mimetype": "text/x-python",
   "name": "python",
   "nbconvert_exporter": "python",
   "pygments_lexer": "ipython3",
   "version": "3.11.9"
  }
 },
 "nbformat": 4,
 "nbformat_minor": 2
}
